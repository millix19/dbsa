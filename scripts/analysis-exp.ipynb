{
 "cells": [
  {
   "cell_type": "markdown",
   "metadata": {},
   "source": [
    "## Analyze Results"
   ]
  },
  {
   "cell_type": "markdown",
   "metadata": {},
   "source": [
    "This script provides example to analyze results. before running this file, please run collate.ipynb to get combined_results.csv"
   ]
  },
  {
   "cell_type": "code",
   "execution_count": 1,
   "metadata": {},
   "outputs": [],
   "source": [
    "import matplotlib.pyplot as plt\n",
    "from pprint import pprint\n",
    "\n",
    "\n",
    "def read_file(filename):\n",
    "    data = {}\n",
    "    with open(filename, 'r') as file:\n",
    "        file.readline()\n",
    "        for line in file:\n",
    "            n_shots, accuracy, run_num, nspw, f1 = map(float, line.strip().split(','))\n",
    "            key = (n_shots, run_num, nspw)\n",
    "            if key not in data:\n",
    "                data[key] = []\n",
    "            data[key].append((accuracy, f1))\n",
    "    return data\n",
    "\n",
    "def aggregate_data(filename, num_windows=1, hundredfy=False):\n",
    "    # new keys should be n_shots, n_windows \n",
    "    data = read_file(filename)\n",
    "    n_shots_options = list(set(key[0] for key in data))\n",
    "    new_data = {}\n",
    "    for num_shots in n_shots_options:\n",
    "        # TODO: average accuracy AND f1 \n",
    "        count = 0\n",
    "        acc_total = 0\n",
    "        f1_total = 0\n",
    "        all_nums = []\n",
    "        all_f1s = []\n",
    "        coeff = 1 if not hundredfy else 100\n",
    "        for dp in data:\n",
    "            if dp[0] == num_shots: #and dp[2] == dp[0] // num_windows:\n",
    "                acc_total += data[dp][0][0] * coeff\n",
    "                f1_total += data[dp][0][1] * 100\n",
    "                count += 1\n",
    "                all_nums.append(data[dp][0][0] * coeff)\n",
    "                all_f1s.append(data[dp][0][1] * 100)\n",
    "\n",
    "        if count != 0:\n",
    "            new_data[num_shots] = (acc_total / count, all_nums, f1_total / count, all_f1s)\n",
    "    return new_data\n",
    "\n"
   ]
  },
  {
   "cell_type": "markdown",
   "metadata": {},
   "source": [
    "## Main Results - Accuracy"
   ]
  },
  {
   "cell_type": "code",
   "execution_count": 2,
   "metadata": {},
   "outputs": [],
   "source": [
    "dataset_names = [\"banking77\", \"clinic150\", \"nlu\", \"trec\", \"trecfine\"]\n",
    "max_blocks = [16, 20, 22, 21, 20]\n",
    "subset_blocks = [6, 7, 7, 7, 7]\n",
    "block_size = 50"
   ]
  },
  {
   "cell_type": "code",
   "execution_count": 10,
   "metadata": {},
   "outputs": [],
   "source": [
    "def create_fixed_dict(dataset_name, max_block, model_name):\n",
    "    return {\n",
    "        \"32k\": aggregate_data(f\"../long/{model_name}/{dataset_name}-n_selected_blocks={max_block}-block_select=all/combined_results.csv\"),\n",
    "        # \"64k\": aggregate_data(f\"../long/{model_name}/{dataset_name}-n_selected_blocks={max_block*2}-block_select=all/combined_results.csv\"),\n",
    "        # \"96k\": aggregate_data(f\"../long/{model_name}/{dataset_name}-n_selected_blocks={max_block*3}-block_select=all/combined_results.csv\"),\n",
    "    }\n",
    "\n",
    "fixed_dicts = {dataset_name: create_fixed_dict(dataset_name, max_block, \"meta-llama+Llama-3.1-8B\") for dataset_name, max_block in zip(dataset_names, max_blocks)}\n",
    "fixed_dicts_llama2 = {dataset_name: create_fixed_dict(dataset_name, max_block, \"togethercomputer+LLaMA-2-7B-32K\") for dataset_name, max_block in zip(dataset_names, max_blocks)}"
   ]
  },
  {
   "cell_type": "code",
   "execution_count": 11,
   "metadata": {},
   "outputs": [],
   "source": [
    "def create_retrieval_dict(dataset_name, subset_block, model_name):\n",
    "    return {\n",
    "        \"32k\": aggregate_data(f\"../long/{model_name}/{dataset_name}-retrieval-n_selected_blocks={subset_block * block_size * 1}-block_select=bm25/combined_results.csv\"),\n",
    "        # \"64k\": aggregate_data(f\"../long/{model_name}/{dataset_name}-retrieval-n_selected_blocks={subset_block * block_size * 2}-block_select=bm25/combined_results.csv\"),\n",
    "        # \"96k\": aggregate_data(f\"../long/{model_name}/{dataset_name}-retrieval-n_selected_blocks={subset_block * block_size * 3}-block_select=bm25/combined_results.csv\"),\n",
    "    }\n",
    "\n",
    "retrieval_dicts = {dataset_name: create_retrieval_dict(dataset_name, subset_block, \"meta-llama+Llama-3.1-8B\") for dataset_name, subset_block in zip(dataset_names, subset_blocks)}\n",
    "retrieval_dicts_llama2 = {dataset_name: create_retrieval_dict(dataset_name, subset_block, \"togethercomputer+LLaMA-2-7B-32K\") for dataset_name, subset_block in zip(dataset_names, subset_blocks)}"
   ]
  },
  {
   "cell_type": "code",
   "execution_count": 13,
   "metadata": {},
   "outputs": [],
   "source": [
    "def create_ours_dict(dataset_name, subset_block, model_name):\n",
    "    return {\n",
    "        \"32k\": aggregate_data(f\"../long/{model_name}/{dataset_name}-n_selected_blocks={subset_block * 1}-block_select=bm25/combined_results.csv\"),\n",
    "        # \"64k\": aggregate_data(f\"../long/{model_name}/{dataset_name}-n_selected_blocks={subset_block * 2}-block_select=bm25/combined_results.csv\"),\n",
    "        # \"96k\": aggregate_data(f\"../long/{model_name}/{dataset_name}-n_selected_blocks={subset_block * 3}-block_select=bm25/combined_results.csv\"),\n",
    "    }\n",
    "\n",
    "ours_dicts = {dataset_name: create_ours_dict(dataset_name, subset_block, \"meta-llama+Llama-3.1-8B\") for dataset_name, subset_block in zip(dataset_names, subset_blocks)}\n",
    "ours_dicts_llama2 = {dataset_name: create_ours_dict(dataset_name, subset_block, \"togethercomputer+LLaMA-2-7B-32K\") for dataset_name, subset_block in zip(dataset_names, subset_blocks)}"
   ]
  },
  {
   "cell_type": "code",
   "execution_count": 15,
   "metadata": {},
   "outputs": [
    {
     "name": "stdout",
     "output_type": "stream",
     "text": [
      "banking77, fixed, 81, ret, 84, ours, 80\n",
      "clinic150, fixed, 86, ret, 83, ours, 80\n",
      "nlu, fixed, 85, ret, 86, ours, 84\n",
      "trec, fixed, 93, ret, 92, ours, 91\n",
      "trecfine, fixed, 76, ret, 79, ours, 77\n"
     ]
    }
   ],
   "source": [
    "length = '32k'\n",
    "for i, name in enumerate(dataset_names):\n",
    "    fixed = fixed_dicts_llama2[name][length]\n",
    "    ret = retrieval_dicts_llama2[name][length]\n",
    "    our = ours_dicts_llama2[name][length]\n",
    "        \n",
    "    fixed_accuracy = list(fixed.values())[0][0]\n",
    "    ret_accuracy = list(ret.values())[0][0]\n",
    "    our_accuracy = list(our.values())[0][0]\n",
    "    print(f\"{name}, fixed, {fixed_accuracy:.0f}, ret, {ret_accuracy:.0f}, ours, {our_accuracy:.0f}\")\n"
   ]
  },
  {
   "cell_type": "code",
   "execution_count": null,
   "metadata": {},
   "outputs": [
    {
     "name": "stdout",
     "output_type": "stream",
     "text": [
      "{1: (2.7600000000000007, [2.8000000000000003, 2.8000000000000003, 2.4, 2.8000000000000003, 2.8000000000000003, 2.8000000000000003, 2.8000000000000003, 2.8000000000000003, 2.8000000000000003, 2.8000000000000003], 0.07577991249908698, [0.07102272727272728, 0.07074637424831977, 0.12025269768276949, 0.07074637424831977, 0.07102272727272728, 0.07074637424831977, 0.07074637424831977, 0.07074637424831977, 0.07074637424831977, 0.07102272727272728]), 5: (40.32000000000001, [38.4, 50.0, 29.2, 38.800000000000004, 27.6, 38.800000000000004, 49.6, 40.400000000000006, 50.8, 39.6], 34.94223275029968, [32.79630023142029, 45.187290941181, 26.76011451412521, 34.1452338511162, 24.503339373469235, 33.74575538217846, 44.07924193980243, 32.669181467882765, 43.03922628597953, 32.49664351584171]), 20: (75.32000000000002, [74.4, 79.2, 76.0, 76.8, 76.4, 74.8, 74.0, 71.2, 76.8, 73.6], 69.7037512309214, [71.1519402599375, 72.97113420490041, 71.35158852691316, 70.03379016366026, 70.54173820407583, 68.87914394407899, 70.2772119655236, 66.08576128056644, 68.44238733849122, 67.30281642106657]), 50: (79.08, [79.2, 77.60000000000001, 79.60000000000001, 81.6, 80.4, 79.60000000000001, 79.60000000000001, 78.4, 78.4, 76.4], 73.52696454720898, [71.56850364642573, 75.14354502131427, 73.86829980985821, 76.43459714888283, 74.73478181270387, 75.40905342853391, 72.1328166782712, 72.49327151924551, 72.43736061917878, 71.04741578767549]), 100: (79.64, [80.0, 81.6, 80.0, 78.0, 80.4, 76.8, 79.60000000000001, 80.0, 80.4, 79.60000000000001], 73.86104011428685, [72.12147880979045, 76.53968686436214, 74.89577522045052, 72.74977547704819, 76.280919657543, 70.21234537468301, 75.04696602099196, 71.92189484397275, 74.77519594402709, 74.06636292999926]), 500: (81.35999999999999, [80.80000000000001, 81.6, 81.6, 81.2, 83.2, 82.0, 82.39999999999999, 79.60000000000001, 80.4, 80.80000000000001], 75.57845093683933, [75.84809299858954, 72.92266175383057, 74.80833740573999, 74.65252828606862, 77.80300147183262, 74.94906248152998, 77.84368229173421, 75.6671899529042, 75.63490070747517, 75.65505201868834])}\n"
     ]
    }
   ],
   "source": [
    "def max_num_examples(data):\n",
    "    key = max(list(data.keys()))\n",
    "    return (key, data[key])"
   ]
  },
  {
   "cell_type": "code",
   "execution_count": 7,
   "metadata": {},
   "outputs": [],
   "source": [
    "# find if any differents are significant\n",
    "from scipy.stats import ttest_ind\n",
    "\n",
    "\n",
    "def check_behavior_post_sat(data, satpt):\n",
    "    options = sorted([int(i) for i in data.keys() if i > satpt])\n",
    "    satdata = data[satpt][1]\n",
    "    found_saturation=False\n",
    "    for i in range(0, len(options)):\n",
    "        # looking for first p-value > 0.05 \n",
    "        #print(f\"comparing data points {options[i]}={data[options[i]][0]} and {options[j]}={data[options[j]][0]}\")\n",
    "        if (cur_p := ttest_ind(a=satdata, b=data[options[i]][1]).pvalue) < 0.05:\n",
    "            print(f\"Sig difference! {satpt} and {options[i]}\")\n",
    "            print(f\"The difference is {data[satpt][0] - data[options[i]][0]} in favor of satpt\")\n"
   ]
  }
 ],
 "metadata": {
  "kernelspec": {
   "display_name": "icl",
   "language": "python",
   "name": "python3"
  },
  "language_info": {
   "codemirror_mode": {
    "name": "ipython",
    "version": 3
   },
   "file_extension": ".py",
   "mimetype": "text/x-python",
   "name": "python",
   "nbconvert_exporter": "python",
   "pygments_lexer": "ipython3",
   "version": "3.9.20"
  },
  "orig_nbformat": 4
 },
 "nbformat": 4,
 "nbformat_minor": 2
}
